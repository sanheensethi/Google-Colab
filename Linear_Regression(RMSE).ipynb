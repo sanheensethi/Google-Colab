{
  "nbformat": 4,
  "nbformat_minor": 0,
  "metadata": {
    "colab": {
      "name": "Linear Regression(RMSE).ipynb",
      "version": "0.3.2",
      "provenance": [],
      "collapsed_sections": [],
      "include_colab_link": true
    },
    "kernelspec": {
      "name": "python3",
      "display_name": "Python 3"
    }
  },
  "cells": [
    {
      "cell_type": "markdown",
      "metadata": {
        "id": "view-in-github",
        "colab_type": "text"
      },
      "source": [
        "<a href=\"https://colab.research.google.com/github/sanheensethi/Google-Colab/blob/master/Linear_Regression(RMSE).ipynb\" target=\"_parent\"><img src=\"https://colab.research.google.com/assets/colab-badge.svg\" alt=\"Open In Colab\"/></a>"
      ]
    },
    {
      "metadata": {
        "id": "9zMqyjjB0oeu",
        "colab_type": "code",
        "colab": {
          "base_uri": "https://localhost:8080/",
          "height": 68
        },
        "outputId": "214aee80-9533-4083-f0ad-01fcd5b625ce"
      },
      "cell_type": "code",
      "source": [
        "#import libraries\n",
        "import numpy as np\n",
        "from matplotlib import pyplot as plt\n",
        "import pandas as pd\n",
        "\n",
        "\n",
        "dataset = pd.read_csv(\"LinearRegressionfromscrath/dataset.csv\")\n",
        "                        \n",
        "#initialize Inputs\n",
        "\n",
        "X = dataset['Head Size(cm^3)'].values\n",
        "Y = dataset['Brain Weight(grams)'].values\n",
        "\n",
        "#mean of inputs amd outputs\n",
        "x_mean = np.mean(X)\n",
        "y_mean = np.mean(Y)\n",
        "\n",
        "print('X mean = ' + str(x_mean))\n",
        "print('Y mean = ' + str(y_mean))\n",
        "#total number of values\n",
        "n = len(X)\n",
        "print(\"Number of Inputs : \" + str(n))"
      ],
      "execution_count": 40,
      "outputs": [
        {
          "output_type": "stream",
          "text": [
            "X mean = 3633.9915611814345\n",
            "Y mean = 1282.873417721519\n",
            "Number of Inputs : 237\n"
          ],
          "name": "stdout"
        }
      ]
    },
    {
      "metadata": {
        "id": "3-SfzqIG6dgR",
        "colab_type": "code",
        "colab": {
          "base_uri": "https://localhost:8080/",
          "height": 51
        },
        "outputId": "5258307d-3fe9-4a13-8042-d1cc11ba6fe3"
      },
      "cell_type": "code",
      "source": [
        "#Calulation with formulas\n",
        "\n",
        "b1,b2,num,den = 0,0,0,0\n",
        "for i in range(n):\n",
        "  num+=(X[i]-x_mean)*(Y[i]-y_mean)\n",
        "  den+=(X[i]-x_mean)**2\n",
        "  \n",
        "b1 = num/den\n",
        "b0 = y_mean - ( b1 * x_mean )\n",
        "\n",
        "print(\"b0 = \" + str(b0))\n",
        "print(\"b1 = \" + str(b1))"
      ],
      "execution_count": 41,
      "outputs": [
        {
          "output_type": "stream",
          "text": [
            "b0 = 325.57342104944223\n",
            "b1 = 0.26342933948939945\n"
          ],
          "name": "stdout"
        }
      ]
    },
    {
      "metadata": {
        "id": "DBIjwbaa9q81",
        "colab_type": "code",
        "colab": {
          "base_uri": "https://localhost:8080/",
          "height": 283
        },
        "outputId": "23615a4f-c661-4cb0-ae78-d300bfa63c19"
      },
      "cell_type": "code",
      "source": [
        "#plotting values\n",
        "X_max,X_min = np.max(X) + 100 , np.min(X) - 100\n",
        "\n",
        "#calculating line values x and y\n",
        "\n",
        "x = np.linspace(X_min,X_max,1000)\n",
        "y = b0 +b1 * x\n",
        "\n",
        "#plotting line\n",
        "plt.plot(x,y,color=\"#00ff00\",label = \"Linear Regression\")\n",
        "\n",
        "#plot data points\n",
        "plt.scatter(X,Y,color=\"#ff0000\",label=\"Data Point\")\n",
        "\n",
        "#x-axis Label\n",
        "plt.xlabel('Head Size(cm^3)')\n",
        "\n",
        "#y-axis Label\n",
        "plt.ylabel('Brain Weight(grams)')\n",
        "\n",
        "plt.legend()\n",
        "plt.show()\n"
      ],
      "execution_count": 42,
      "outputs": [
        {
          "output_type": "display_data",
          "data": {
            "image/png": "[encoded data removed]",
            "text/plain": [
              "<Figure size 432x288 with 1 Axes>"
            ]
          },
          "metadata": {
            "tags": []
          }
        }
      ]
    },
    {
      "metadata": {
        "id": "ImX5eVgj_0WR",
        "colab_type": "code",
        "colab": {
          "base_uri": "https://localhost:8080/",
          "height": 34
        },
        "outputId": "d2f2f4c4-5208-4461-9d7f-0af767cef30f"
      },
      "cell_type": "code",
      "source": [
        "#Accuracy : RMSE\n",
        "\n",
        "rmse = 0\n",
        "for i in range(n):\n",
        "  y_pred = b0 + b1 * X[i]\n",
        "  rmse += (Y[i] - y_pred) ** 2\n",
        "  \n",
        "rmse = np.sqrt(rmse/n)\n",
        "\n",
        "print(\"RMSE = \" + str(rmse))\n"
      ],
      "execution_count": 43,
      "outputs": [
        {
          "output_type": "stream",
          "text": [
            "Accuracy = 72.1206213783709\n"
          ],
          "name": "stdout"
        }
      ]
    },
    {
      "metadata": {
        "id": "cuJIdBjrCPXm",
        "colab_type": "code",
        "colab": {
          "base_uri": "https://localhost:8080/",
          "height": 34
        },
        "outputId": "18138f9f-9b6a-486c-bfe0-5ec6866c2030"
      },
      "cell_type": "code",
      "source": [
        "#Accuracy\n",
        "\n",
        "sumofsquares,sumofresiduals = 0,0\n",
        "\n",
        "for i in range(n):\n",
        "  y_pred = b0 + b1 * X[i]\n",
        "  sumofsquares += (Y[i] - y_mean) ** 2\n",
        "  sumofresiduals += (Y[i] -y_pred) ** 2\n",
        "  \n",
        "accuracy = 1-(sumofresiduals/sumofsquares)\n",
        "print(\"Accuracy = \"+str(accuracy*100) + \" %\")\n",
        "  "
      ],
      "execution_count": 49,
      "outputs": [
        {
          "output_type": "stream",
          "text": [
            "Accuracy = 63.93117199570003 %\n"
          ],
          "name": "stdout"
        }
      ]
    }
  ]
}